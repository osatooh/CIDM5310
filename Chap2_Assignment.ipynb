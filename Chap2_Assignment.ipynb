{
 "cells": [
  {
   "cell_type": "code",
   "execution_count": 3,
   "metadata": {},
   "outputs": [
    {
     "output_type": "execute_result",
     "data": {
      "text/plain": [
       "cdi        3.875000e+00\n",
       "dmin       2.583200e+00\n",
       "felt       3.550000e+01\n",
       "gap        1.556500e+02\n",
       "mag        4.900000e+00\n",
       "mmi                 NaN\n",
       "nst                 NaN\n",
       "rms        1.335500e+00\n",
       "sig        3.717500e+02\n",
       "time       1.539090e+12\n",
       "tsunami    0.000000e+00\n",
       "tz         6.000000e+02\n",
       "updated    1.539428e+12\n",
       "Name: 0.95, dtype: float64"
      ]
     },
     "metadata": {},
     "execution_count": 3
    }
   ],
   "source": [
    "import datetime\n",
    "import numpy as np\n",
    "import pandas as pd\n",
    "\n",
    "df=pd.read_csv('parsed.csv')\n",
    "condition =(df['parsed_place'] =='Japan') & (df['magType'] =='mb')\n",
    "df_magt =df.loc[condition]\n",
    "df_magt.quantile(0.95)\n",
    "\n"
   ]
  },
  {
   "cell_type": "code",
   "execution_count": 49,
   "metadata": {},
   "outputs": [
    {
     "output_type": "execute_result",
     "data": {
      "text/plain": [
       "tsunami\n",
       "1    23.129252\n",
       "dtype: float64"
      ]
     },
     "metadata": {},
     "execution_count": 49
    }
   ],
   "source": [
    "condition =(df['parsed_place'] =='Indonesia') & (df['type']=='earthquake') \n",
    "df_indo = df.loc[condition,:]\n",
    "df_pct =(df_indo.groupby('tsunami').size() /df_indo['tsunami'].count()) *100\n",
    "df_pct.tail(1)\n"
   ]
  },
  {
   "cell_type": "code",
   "execution_count": 6,
   "metadata": {},
   "outputs": [
    {
     "output_type": "execute_result",
     "data": {
      "text/plain": [
       "             cdi        dmin       felt         gap         mag   mmi  \\\n",
       "count  15.000000  681.000000  15.000000  681.000000  681.000000  1.00   \n",
       "mean    2.440000    0.166199   2.400000  153.668120    0.500073  2.84   \n",
       "std     0.501142    0.166228   4.626013   68.735302    0.696710   NaN   \n",
       "min     2.000000    0.001000   1.000000   29.140000   -0.500000  2.84   \n",
       "25%     2.000000    0.053000   1.000000   97.380000   -0.100000  2.84   \n",
       "50%     2.200000    0.112000   1.000000  149.140000    0.400000  2.84   \n",
       "75%     2.900000    0.233000   1.000000  199.720000    0.900000  2.84   \n",
       "max     3.300000    1.414000  19.000000  355.910000    2.900000  2.84   \n",
       "\n",
       "              nst         rms         sig          time  tsunami     tz  \\\n",
       "count  681.000000  681.000000  681.000000  6.810000e+02    681.0  681.0   \n",
       "mean    12.618209    0.151986   10.970631  1.538314e+12      0.0 -480.0   \n",
       "std      9.866963    0.084662   19.607150  5.965637e+08      0.0    0.0   \n",
       "min      3.000000    0.000500    0.000000  1.537247e+12      0.0 -480.0   \n",
       "25%      6.000000    0.106900    0.000000  1.537854e+12      0.0 -480.0   \n",
       "50%     10.000000    0.146300    2.000000  1.538280e+12      0.0 -480.0   \n",
       "75%     16.000000    0.187100   12.000000  1.538821e+12      0.0 -480.0   \n",
       "max     61.000000    0.863400  129.000000  1.539461e+12      0.0 -480.0   \n",
       "\n",
       "            updated  \n",
       "count  6.810000e+02  \n",
       "mean   1.538402e+12  \n",
       "std    6.010951e+08  \n",
       "min    1.537307e+12  \n",
       "25%    1.537928e+12  \n",
       "50%    1.538428e+12  \n",
       "75%    1.538878e+12  \n",
       "max    1.539483e+12  "
      ],
      "text/html": "<div>\n<style scoped>\n    .dataframe tbody tr th:only-of-type {\n        vertical-align: middle;\n    }\n\n    .dataframe tbody tr th {\n        vertical-align: top;\n    }\n\n    .dataframe thead th {\n        text-align: right;\n    }\n</style>\n<table border=\"1\" class=\"dataframe\">\n  <thead>\n    <tr style=\"text-align: right;\">\n      <th></th>\n      <th>cdi</th>\n      <th>dmin</th>\n      <th>felt</th>\n      <th>gap</th>\n      <th>mag</th>\n      <th>mmi</th>\n      <th>nst</th>\n      <th>rms</th>\n      <th>sig</th>\n      <th>time</th>\n      <th>tsunami</th>\n      <th>tz</th>\n      <th>updated</th>\n    </tr>\n  </thead>\n  <tbody>\n    <tr>\n      <th>count</th>\n      <td>15.000000</td>\n      <td>681.000000</td>\n      <td>15.000000</td>\n      <td>681.000000</td>\n      <td>681.000000</td>\n      <td>1.00</td>\n      <td>681.000000</td>\n      <td>681.000000</td>\n      <td>681.000000</td>\n      <td>6.810000e+02</td>\n      <td>681.0</td>\n      <td>681.0</td>\n      <td>6.810000e+02</td>\n    </tr>\n    <tr>\n      <th>mean</th>\n      <td>2.440000</td>\n      <td>0.166199</td>\n      <td>2.400000</td>\n      <td>153.668120</td>\n      <td>0.500073</td>\n      <td>2.84</td>\n      <td>12.618209</td>\n      <td>0.151986</td>\n      <td>10.970631</td>\n      <td>1.538314e+12</td>\n      <td>0.0</td>\n      <td>-480.0</td>\n      <td>1.538402e+12</td>\n    </tr>\n    <tr>\n      <th>std</th>\n      <td>0.501142</td>\n      <td>0.166228</td>\n      <td>4.626013</td>\n      <td>68.735302</td>\n      <td>0.696710</td>\n      <td>NaN</td>\n      <td>9.866963</td>\n      <td>0.084662</td>\n      <td>19.607150</td>\n      <td>5.965637e+08</td>\n      <td>0.0</td>\n      <td>0.0</td>\n      <td>6.010951e+08</td>\n    </tr>\n    <tr>\n      <th>min</th>\n      <td>2.000000</td>\n      <td>0.001000</td>\n      <td>1.000000</td>\n      <td>29.140000</td>\n      <td>-0.500000</td>\n      <td>2.84</td>\n      <td>3.000000</td>\n      <td>0.000500</td>\n      <td>0.000000</td>\n      <td>1.537247e+12</td>\n      <td>0.0</td>\n      <td>-480.0</td>\n      <td>1.537307e+12</td>\n    </tr>\n    <tr>\n      <th>25%</th>\n      <td>2.000000</td>\n      <td>0.053000</td>\n      <td>1.000000</td>\n      <td>97.380000</td>\n      <td>-0.100000</td>\n      <td>2.84</td>\n      <td>6.000000</td>\n      <td>0.106900</td>\n      <td>0.000000</td>\n      <td>1.537854e+12</td>\n      <td>0.0</td>\n      <td>-480.0</td>\n      <td>1.537928e+12</td>\n    </tr>\n    <tr>\n      <th>50%</th>\n      <td>2.200000</td>\n      <td>0.112000</td>\n      <td>1.000000</td>\n      <td>149.140000</td>\n      <td>0.400000</td>\n      <td>2.84</td>\n      <td>10.000000</td>\n      <td>0.146300</td>\n      <td>2.000000</td>\n      <td>1.538280e+12</td>\n      <td>0.0</td>\n      <td>-480.0</td>\n      <td>1.538428e+12</td>\n    </tr>\n    <tr>\n      <th>75%</th>\n      <td>2.900000</td>\n      <td>0.233000</td>\n      <td>1.000000</td>\n      <td>199.720000</td>\n      <td>0.900000</td>\n      <td>2.84</td>\n      <td>16.000000</td>\n      <td>0.187100</td>\n      <td>12.000000</td>\n      <td>1.538821e+12</td>\n      <td>0.0</td>\n      <td>-480.0</td>\n      <td>1.538878e+12</td>\n    </tr>\n    <tr>\n      <th>max</th>\n      <td>3.300000</td>\n      <td>1.414000</td>\n      <td>19.000000</td>\n      <td>355.910000</td>\n      <td>2.900000</td>\n      <td>2.84</td>\n      <td>61.000000</td>\n      <td>0.863400</td>\n      <td>129.000000</td>\n      <td>1.539461e+12</td>\n      <td>0.0</td>\n      <td>-480.0</td>\n      <td>1.539483e+12</td>\n    </tr>\n  </tbody>\n</table>\n</div>"
     },
     "metadata": {},
     "execution_count": 6
    }
   ],
   "source": [
    "condition =(df['parsed_place'] =='Nevada') \n",
    "df_Neva= df.loc[condition]\n",
    "df_Neva.describe()"
   ]
  },
  {
   "cell_type": "code",
   "execution_count": 26,
   "metadata": {},
   "outputs": [
    {
     "output_type": "execute_result",
     "data": {
      "text/plain": [
       "     alert  cdi        code  \\\n",
       "0      NaN  NaN    37389218   \n",
       "1      NaN  NaN    37389202   \n",
       "2      NaN  4.4    37389194   \n",
       "3      NaN  NaN    37389186   \n",
       "4      NaN  NaN    73096941   \n",
       "...    ...  ...         ...   \n",
       "9327   NaN  NaN    73086771   \n",
       "9328   NaN  NaN    38063967   \n",
       "9329   NaN  NaN  2018261000   \n",
       "9330   NaN  NaN    38063959   \n",
       "9331   NaN  NaN    38063935   \n",
       "\n",
       "                                                 detail      dmin  felt  \\\n",
       "0     https://earthquake.usgs.gov/fdsnws/event/1/que...  0.008693   NaN   \n",
       "1     https://earthquake.usgs.gov/fdsnws/event/1/que...  0.020030   NaN   \n",
       "2     https://earthquake.usgs.gov/fdsnws/event/1/que...  0.021370  28.0   \n",
       "3     https://earthquake.usgs.gov/fdsnws/event/1/que...  0.026180   NaN   \n",
       "4     https://earthquake.usgs.gov/fdsnws/event/1/que...  0.077990   NaN   \n",
       "...                                                 ...       ...   ...   \n",
       "9327  https://earthquake.usgs.gov/fdsnws/event/1/que...  0.018060   NaN   \n",
       "9328  https://earthquake.usgs.gov/fdsnws/event/1/que...  0.030410   NaN   \n",
       "9329  https://earthquake.usgs.gov/fdsnws/event/1/que...  0.452600   NaN   \n",
       "9330  https://earthquake.usgs.gov/fdsnws/event/1/que...  0.018650   NaN   \n",
       "9331  https://earthquake.usgs.gov/fdsnws/event/1/que...  0.016980   NaN   \n",
       "\n",
       "        gap             ids   mag magType  ...     status           time  \\\n",
       "0      85.0    ,ci37389218,  1.35      ml  ...  automatic  1539475168010   \n",
       "1      79.0    ,ci37389202,  1.29      ml  ...  automatic  1539475129610   \n",
       "2      21.0    ,ci37389194,  3.42      ml  ...  automatic  1539475062610   \n",
       "3      39.0    ,ci37389186,  0.44      ml  ...  automatic  1539474978070   \n",
       "4     192.0    ,nc73096941,  2.16      md  ...  automatic  1539474716050   \n",
       "...     ...             ...   ...     ...  ...        ...            ...   \n",
       "9327  185.0    ,nc73086771,  0.62      md  ...   reviewed  1537230228060   \n",
       "9328   50.0    ,ci38063967,  1.00      ml  ...   reviewed  1537230135130   \n",
       "9329  276.0  ,pr2018261000,  2.40      md  ...   reviewed  1537229908180   \n",
       "9330   61.0    ,ci38063959,  1.10      ml  ...   reviewed  1537229545350   \n",
       "9331   39.0    ,ci38063935,  0.66      ml  ...   reviewed  1537228864470   \n",
       "\n",
       "                                         title tsunami        type  \\\n",
       "0                M 1.4 - 9km NE of Aguanga, CA       0  earthquake   \n",
       "1                M 1.3 - 9km NE of Aguanga, CA       0  earthquake   \n",
       "2                M 3.4 - 8km NE of Aguanga, CA       0  earthquake   \n",
       "3                M 0.4 - 9km NE of Aguanga, CA       0  earthquake   \n",
       "4                M 2.2 - 10km NW of Avenal, CA       0  earthquake   \n",
       "...                                        ...     ...         ...   \n",
       "9327      M 0.6 - 9km ENE of Mammoth Lakes, CA       0  earthquake   \n",
       "9328               M 1.0 - 3km W of Julian, CA       0  earthquake   \n",
       "9329  M 2.4 - 35km NNE of Hatillo, Puerto Rico       0  earthquake   \n",
       "9330             M 1.1 - 9km NE of Aguanga, CA       0  earthquake   \n",
       "9331             M 0.7 - 9km NE of Aguanga, CA       0  earthquake   \n",
       "\n",
       "                                                  types     tz        updated  \\\n",
       "0            ,geoserve,nearby-cities,origin,phase-data, -480.0  1539475395144   \n",
       "1            ,geoserve,nearby-cities,origin,phase-data, -480.0  1539475253925   \n",
       "2     ,dyfi,focal-mechanism,geoserve,nearby-cities,o... -480.0  1539536756176   \n",
       "3            ,geoserve,nearby-cities,origin,phase-data, -480.0  1539475196167   \n",
       "4     ,geoserve,nearby-cities,origin,phase-data,scit... -480.0  1539477547926   \n",
       "...                                                 ...    ...            ...   \n",
       "9327         ,geoserve,nearby-cities,origin,phase-data, -480.0  1537285598315   \n",
       "9328  ,geoserve,nearby-cities,origin,phase-data,scit... -480.0  1537276800970   \n",
       "9329                       ,geoserve,origin,phase-data, -240.0  1537243777410   \n",
       "9330  ,focal-mechanism,geoserve,nearby-cities,origin... -480.0  1537230211640   \n",
       "9331  ,focal-mechanism,geoserve,nearby-cities,origin... -480.0  1537305830770   \n",
       "\n",
       "                                                    url parsed_place  \n",
       "0     https://earthquake.usgs.gov/earthquakes/eventp...   California  \n",
       "1     https://earthquake.usgs.gov/earthquakes/eventp...   California  \n",
       "2     https://earthquake.usgs.gov/earthquakes/eventp...   California  \n",
       "3     https://earthquake.usgs.gov/earthquakes/eventp...   California  \n",
       "4     https://earthquake.usgs.gov/earthquakes/eventp...   California  \n",
       "...                                                 ...          ...  \n",
       "9327  https://earthquake.usgs.gov/earthquakes/eventp...   California  \n",
       "9328  https://earthquake.usgs.gov/earthquakes/eventp...   California  \n",
       "9329  https://earthquake.usgs.gov/earthquakes/eventp...  Puerto Rico  \n",
       "9330  https://earthquake.usgs.gov/earthquakes/eventp...   California  \n",
       "9331  https://earthquake.usgs.gov/earthquakes/eventp...   California  \n",
       "\n",
       "[9332 rows x 27 columns]"
      ],
      "text/html": "<div>\n<style scoped>\n    .dataframe tbody tr th:only-of-type {\n        vertical-align: middle;\n    }\n\n    .dataframe tbody tr th {\n        vertical-align: top;\n    }\n\n    .dataframe thead th {\n        text-align: right;\n    }\n</style>\n<table border=\"1\" class=\"dataframe\">\n  <thead>\n    <tr style=\"text-align: right;\">\n      <th></th>\n      <th>alert</th>\n      <th>cdi</th>\n      <th>code</th>\n      <th>detail</th>\n      <th>dmin</th>\n      <th>felt</th>\n      <th>gap</th>\n      <th>ids</th>\n      <th>mag</th>\n      <th>magType</th>\n      <th>...</th>\n      <th>status</th>\n      <th>time</th>\n      <th>title</th>\n      <th>tsunami</th>\n      <th>type</th>\n      <th>types</th>\n      <th>tz</th>\n      <th>updated</th>\n      <th>url</th>\n      <th>parsed_place</th>\n    </tr>\n  </thead>\n  <tbody>\n    <tr>\n      <th>0</th>\n      <td>NaN</td>\n      <td>NaN</td>\n      <td>37389218</td>\n      <td>https://earthquake.usgs.gov/fdsnws/event/1/que...</td>\n      <td>0.008693</td>\n      <td>NaN</td>\n      <td>85.0</td>\n      <td>,ci37389218,</td>\n      <td>1.35</td>\n      <td>ml</td>\n      <td>...</td>\n      <td>automatic</td>\n      <td>1539475168010</td>\n      <td>M 1.4 - 9km NE of Aguanga, CA</td>\n      <td>0</td>\n      <td>earthquake</td>\n      <td>,geoserve,nearby-cities,origin,phase-data,</td>\n      <td>-480.0</td>\n      <td>1539475395144</td>\n      <td>https://earthquake.usgs.gov/earthquakes/eventp...</td>\n      <td>California</td>\n    </tr>\n    <tr>\n      <th>1</th>\n      <td>NaN</td>\n      <td>NaN</td>\n      <td>37389202</td>\n      <td>https://earthquake.usgs.gov/fdsnws/event/1/que...</td>\n      <td>0.020030</td>\n      <td>NaN</td>\n      <td>79.0</td>\n      <td>,ci37389202,</td>\n      <td>1.29</td>\n      <td>ml</td>\n      <td>...</td>\n      <td>automatic</td>\n      <td>1539475129610</td>\n      <td>M 1.3 - 9km NE of Aguanga, CA</td>\n      <td>0</td>\n      <td>earthquake</td>\n      <td>,geoserve,nearby-cities,origin,phase-data,</td>\n      <td>-480.0</td>\n      <td>1539475253925</td>\n      <td>https://earthquake.usgs.gov/earthquakes/eventp...</td>\n      <td>California</td>\n    </tr>\n    <tr>\n      <th>2</th>\n      <td>NaN</td>\n      <td>4.4</td>\n      <td>37389194</td>\n      <td>https://earthquake.usgs.gov/fdsnws/event/1/que...</td>\n      <td>0.021370</td>\n      <td>28.0</td>\n      <td>21.0</td>\n      <td>,ci37389194,</td>\n      <td>3.42</td>\n      <td>ml</td>\n      <td>...</td>\n      <td>automatic</td>\n      <td>1539475062610</td>\n      <td>M 3.4 - 8km NE of Aguanga, CA</td>\n      <td>0</td>\n      <td>earthquake</td>\n      <td>,dyfi,focal-mechanism,geoserve,nearby-cities,o...</td>\n      <td>-480.0</td>\n      <td>1539536756176</td>\n      <td>https://earthquake.usgs.gov/earthquakes/eventp...</td>\n      <td>California</td>\n    </tr>\n    <tr>\n      <th>3</th>\n      <td>NaN</td>\n      <td>NaN</td>\n      <td>37389186</td>\n      <td>https://earthquake.usgs.gov/fdsnws/event/1/que...</td>\n      <td>0.026180</td>\n      <td>NaN</td>\n      <td>39.0</td>\n      <td>,ci37389186,</td>\n      <td>0.44</td>\n      <td>ml</td>\n      <td>...</td>\n      <td>automatic</td>\n      <td>1539474978070</td>\n      <td>M 0.4 - 9km NE of Aguanga, CA</td>\n      <td>0</td>\n      <td>earthquake</td>\n      <td>,geoserve,nearby-cities,origin,phase-data,</td>\n      <td>-480.0</td>\n      <td>1539475196167</td>\n      <td>https://earthquake.usgs.gov/earthquakes/eventp...</td>\n      <td>California</td>\n    </tr>\n    <tr>\n      <th>4</th>\n      <td>NaN</td>\n      <td>NaN</td>\n      <td>73096941</td>\n      <td>https://earthquake.usgs.gov/fdsnws/event/1/que...</td>\n      <td>0.077990</td>\n      <td>NaN</td>\n      <td>192.0</td>\n      <td>,nc73096941,</td>\n      <td>2.16</td>\n      <td>md</td>\n      <td>...</td>\n      <td>automatic</td>\n      <td>1539474716050</td>\n      <td>M 2.2 - 10km NW of Avenal, CA</td>\n      <td>0</td>\n      <td>earthquake</td>\n      <td>,geoserve,nearby-cities,origin,phase-data,scit...</td>\n      <td>-480.0</td>\n      <td>1539477547926</td>\n      <td>https://earthquake.usgs.gov/earthquakes/eventp...</td>\n      <td>California</td>\n    </tr>\n    <tr>\n      <th>...</th>\n      <td>...</td>\n      <td>...</td>\n      <td>...</td>\n      <td>...</td>\n      <td>...</td>\n      <td>...</td>\n      <td>...</td>\n      <td>...</td>\n      <td>...</td>\n      <td>...</td>\n      <td>...</td>\n      <td>...</td>\n      <td>...</td>\n      <td>...</td>\n      <td>...</td>\n      <td>...</td>\n      <td>...</td>\n      <td>...</td>\n      <td>...</td>\n      <td>...</td>\n      <td>...</td>\n    </tr>\n    <tr>\n      <th>9327</th>\n      <td>NaN</td>\n      <td>NaN</td>\n      <td>73086771</td>\n      <td>https://earthquake.usgs.gov/fdsnws/event/1/que...</td>\n      <td>0.018060</td>\n      <td>NaN</td>\n      <td>185.0</td>\n      <td>,nc73086771,</td>\n      <td>0.62</td>\n      <td>md</td>\n      <td>...</td>\n      <td>reviewed</td>\n      <td>1537230228060</td>\n      <td>M 0.6 - 9km ENE of Mammoth Lakes, CA</td>\n      <td>0</td>\n      <td>earthquake</td>\n      <td>,geoserve,nearby-cities,origin,phase-data,</td>\n      <td>-480.0</td>\n      <td>1537285598315</td>\n      <td>https://earthquake.usgs.gov/earthquakes/eventp...</td>\n      <td>California</td>\n    </tr>\n    <tr>\n      <th>9328</th>\n      <td>NaN</td>\n      <td>NaN</td>\n      <td>38063967</td>\n      <td>https://earthquake.usgs.gov/fdsnws/event/1/que...</td>\n      <td>0.030410</td>\n      <td>NaN</td>\n      <td>50.0</td>\n      <td>,ci38063967,</td>\n      <td>1.00</td>\n      <td>ml</td>\n      <td>...</td>\n      <td>reviewed</td>\n      <td>1537230135130</td>\n      <td>M 1.0 - 3km W of Julian, CA</td>\n      <td>0</td>\n      <td>earthquake</td>\n      <td>,geoserve,nearby-cities,origin,phase-data,scit...</td>\n      <td>-480.0</td>\n      <td>1537276800970</td>\n      <td>https://earthquake.usgs.gov/earthquakes/eventp...</td>\n      <td>California</td>\n    </tr>\n    <tr>\n      <th>9329</th>\n      <td>NaN</td>\n      <td>NaN</td>\n      <td>2018261000</td>\n      <td>https://earthquake.usgs.gov/fdsnws/event/1/que...</td>\n      <td>0.452600</td>\n      <td>NaN</td>\n      <td>276.0</td>\n      <td>,pr2018261000,</td>\n      <td>2.40</td>\n      <td>md</td>\n      <td>...</td>\n      <td>reviewed</td>\n      <td>1537229908180</td>\n      <td>M 2.4 - 35km NNE of Hatillo, Puerto Rico</td>\n      <td>0</td>\n      <td>earthquake</td>\n      <td>,geoserve,origin,phase-data,</td>\n      <td>-240.0</td>\n      <td>1537243777410</td>\n      <td>https://earthquake.usgs.gov/earthquakes/eventp...</td>\n      <td>Puerto Rico</td>\n    </tr>\n    <tr>\n      <th>9330</th>\n      <td>NaN</td>\n      <td>NaN</td>\n      <td>38063959</td>\n      <td>https://earthquake.usgs.gov/fdsnws/event/1/que...</td>\n      <td>0.018650</td>\n      <td>NaN</td>\n      <td>61.0</td>\n      <td>,ci38063959,</td>\n      <td>1.10</td>\n      <td>ml</td>\n      <td>...</td>\n      <td>reviewed</td>\n      <td>1537229545350</td>\n      <td>M 1.1 - 9km NE of Aguanga, CA</td>\n      <td>0</td>\n      <td>earthquake</td>\n      <td>,focal-mechanism,geoserve,nearby-cities,origin...</td>\n      <td>-480.0</td>\n      <td>1537230211640</td>\n      <td>https://earthquake.usgs.gov/earthquakes/eventp...</td>\n      <td>California</td>\n    </tr>\n    <tr>\n      <th>9331</th>\n      <td>NaN</td>\n      <td>NaN</td>\n      <td>38063935</td>\n      <td>https://earthquake.usgs.gov/fdsnws/event/1/que...</td>\n      <td>0.016980</td>\n      <td>NaN</td>\n      <td>39.0</td>\n      <td>,ci38063935,</td>\n      <td>0.66</td>\n      <td>ml</td>\n      <td>...</td>\n      <td>reviewed</td>\n      <td>1537228864470</td>\n      <td>M 0.7 - 9km NE of Aguanga, CA</td>\n      <td>0</td>\n      <td>earthquake</td>\n      <td>,focal-mechanism,geoserve,nearby-cities,origin...</td>\n      <td>-480.0</td>\n      <td>1537305830770</td>\n      <td>https://earthquake.usgs.gov/earthquakes/eventp...</td>\n      <td>California</td>\n    </tr>\n  </tbody>\n</table>\n<p>9332 rows × 27 columns</p>\n</div>"
     },
     "metadata": {},
     "execution_count": 26
    }
   ],
   "source": [
    "df   df(df_indo.value_counts(normalize=True)*100"
   ]
  },
  {
   "cell_type": "code",
   "execution_count": 7,
   "metadata": {},
   "outputs": [],
   "source": [
    "df['ring_of_fire'] = df.parsed_place.str.contains(r'|'.join([\n",
    "    'Bolivia', 'Chile', 'Ecuador', 'Peru', 'Costa Rica', \n",
    "    'Guatemala', '^Mexico', 'Japan', 'Philippines',\n",
    "    'Indonesia', 'New Zealand', 'Antarctic', 'Canada',\n",
    "    'Fiji', 'Alaska', 'Washington', 'California', 'Russia', \n",
    "    'Taiwan', 'Tonga', 'Kermadec Islands'\n",
    "]))"
   ]
  },
  {
   "cell_type": "code",
   "execution_count": 8,
   "metadata": {},
   "outputs": [
    {
     "output_type": "execute_result",
     "data": {
      "text/plain": [
       "True     7188\n",
       "False    2144\n",
       "Name: ring_of_fire, dtype: int64"
      ]
     },
     "metadata": {},
     "execution_count": 8
    }
   ],
   "source": [
    "df.ring_of_fire.value_counts()"
   ]
  },
  {
   "cell_type": "code",
   "execution_count": 9,
   "metadata": {},
   "outputs": [
    {
     "output_type": "execute_result",
     "data": {
      "text/plain": [
       "45"
      ]
     },
     "metadata": {},
     "execution_count": 9
    }
   ],
   "source": [
    "df.loc[df.ring_of_fire, 'tsunami'].sum()"
   ]
  }
 ],
 "metadata": {
  "kernelspec": {
   "name": "python395jvsc74a57bd0e781f8642344f97da68080e7799f6fc13ee47aace6ca7de9e743fbd4c6390190",
   "display_name": "Python 3.9.1 64-bit"
  },
  "language_info": {
   "codemirror_mode": {
    "name": "ipython",
    "version": 3
   },
   "file_extension": ".py",
   "mimetype": "text/x-python",
   "name": "python",
   "nbconvert_exporter": "python",
   "pygments_lexer": "ipython3",
   "version": "3.9.5"
  },
  "metadata": {
   "interpreter": {
    "hash": "e781f8642344f97da68080e7799f6fc13ee47aace6ca7de9e743fbd4c6390190"
   }
  }
 },
 "nbformat": 4,
 "nbformat_minor": 4
}
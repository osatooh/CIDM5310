{
 "metadata": {
  "language_info": {
   "codemirror_mode": {
    "name": "ipython",
    "version": 3
   },
   "file_extension": ".py",
   "mimetype": "text/x-python",
   "name": "python",
   "nbconvert_exporter": "python",
   "pygments_lexer": "ipython3",
   "version": "3.9.5"
  },
  "orig_nbformat": 4,
  "kernelspec": {
   "name": "python3",
   "display_name": "Python 3.9.5 64-bit"
  },
  "interpreter": {
   "hash": "e781f8642344f97da68080e7799f6fc13ee47aace6ca7de9e743fbd4c6390190"
  }
 },
 "nbformat": 4,
 "nbformat_minor": 2,
 "cells": [
  {
   "cell_type": "code",
   "execution_count": 12,
   "metadata": {},
   "outputs": [
    {
     "output_type": "error",
     "ename": "ModuleNotFoundError",
     "evalue": "No module named 'stock_analysis'",
     "traceback": [
      "\u001b[1;31m---------------------------------------------------------------------------\u001b[0m",
      "\u001b[1;31mModuleNotFoundError\u001b[0m                       Traceback (most recent call last)",
      "\u001b[1;32m<ipython-input-12-7af0c4728ab5>\u001b[0m in \u001b[0;36m<module>\u001b[1;34m\u001b[0m\n\u001b[0;32m      1\u001b[0m \u001b[0mget_ipython\u001b[0m\u001b[1;33m(\u001b[0m\u001b[1;33m)\u001b[0m\u001b[1;33m.\u001b[0m\u001b[0mrun_line_magic\u001b[0m\u001b[1;33m(\u001b[0m\u001b[1;34m'matplotlib'\u001b[0m\u001b[1;33m,\u001b[0m \u001b[1;34m'inline'\u001b[0m\u001b[1;33m)\u001b[0m\u001b[1;33m\u001b[0m\u001b[1;33m\u001b[0m\u001b[0m\n\u001b[1;32m----> 2\u001b[1;33m \u001b[1;32mimport\u001b[0m \u001b[0mstock_analysis\u001b[0m\u001b[1;33m\u001b[0m\u001b[1;33m\u001b[0m\u001b[0m\n\u001b[0m\u001b[0;32m      3\u001b[0m \u001b[1;32mfrom\u001b[0m \u001b[0mstock_analysis\u001b[0m\u001b[1;33m.\u001b[0m\u001b[0mutils\u001b[0m \u001b[1;32mimport\u001b[0m \u001b[0mgroup_stocks\u001b[0m\u001b[1;33m,\u001b[0m \u001b[0mdescribe_group\u001b[0m\u001b[1;33m\u001b[0m\u001b[1;33m\u001b[0m\u001b[0m\n\u001b[0;32m      4\u001b[0m \u001b[1;33m\u001b[0m\u001b[0m\n\u001b[0;32m      5\u001b[0m \u001b[0mreader\u001b[0m \u001b[1;33m=\u001b[0m \u001b[0mstock_analysis\u001b[0m\u001b[1;33m.\u001b[0m\u001b[0mStockReader\u001b[0m\u001b[1;33m(\u001b[0m\u001b[1;34m'2017-01-01'\u001b[0m\u001b[1;33m,\u001b[0m \u001b[1;34m'2018-12-31'\u001b[0m\u001b[1;33m)\u001b[0m\u001b[1;33m\u001b[0m\u001b[1;33m\u001b[0m\u001b[0m\n",
      "\u001b[1;31mModuleNotFoundError\u001b[0m: No module named 'stock_analysis'"
     ]
    }
   ],
   "source": [
    "%matplotlib inline\n",
    "import stock_analysis\n",
    "from stock_analysis.utils import group_stocks, describe_group\n",
    "\n",
    "reader = stock_analysis.StockReader('2017-01-01', '2018-12-31')\n",
    "\n",
    "# get bitcoin data\n",
    "bitcoin = reader.get_bitcoin_data()\n",
    "\n",
    "# get faang data\n",
    "# get faang data\n",
    "fb, aapl, amzn, nflx, goog = (\n",
    "    reader.get_ticker_data(ticker) \\\n",
    "    for ticker in ['FB', 'AAPL', 'AMZN', 'NFLX', 'GOOG']\n",
    ")\n",
    "\n",
    "# get S&P 500 data\n",
    "sp = reader.get_index_data()\n",
    "\n",
    "faang = group_stocks(\n",
    "    {\n",
    "        'Facebook' : fb, \n",
    "        'Apple' : aapl, \n",
    "        'Amazon' : amzn, \n",
    "        'Netflix' : nflx, \n",
    "        'Google' : goog,\n",
    "        'S&P 500' : sp\n",
    "    }\n",
    ")\n",
    "\n",
    "bit_sp = group_stocks(\n",
    "    {git\n",
    "        'Bitcoin' : bitcoin,\n",
    "        'S&P 500' : sp\n",
    "    }\n",
    ")\n",
    "\n",
    "all_assets = group_stocks(\n",
    "    {\n",
    "        'Bitcoin' : bitcoin,\n",
    "        'S&P 500' : sp,\n",
    "        'Facebook' : fb, \n",
    "        'Apple' : aapl, \n",
    "        'Amazon' : amzn, \n",
    "        'Netflix' : nflx, \n",
    "        'Google' : goog\n",
    "    }\n",
    ")"
   ]
  },
  {
   "cell_type": "code",
   "execution_count": 2,
   "metadata": {},
   "outputs": [
    {
     "output_type": "error",
     "ename": "NameError",
     "evalue": "name 'stock_analysis' is not defined",
     "traceback": [
      "\u001b[1;31m---------------------------------------------------------------------------\u001b[0m",
      "\u001b[1;31mNameError\u001b[0m                                 Traceback (most recent call last)",
      "\u001b[1;32m<ipython-input-2-8badd10d4090>\u001b[0m in \u001b[0;36m<module>\u001b[1;34m\u001b[0m\n\u001b[0;32m      5\u001b[0m \u001b[1;33m\u001b[0m\u001b[0m\n\u001b[0;32m      6\u001b[0m \u001b[1;31m# calculate support/resistance levels\u001b[0m\u001b[1;33m\u001b[0m\u001b[1;33m\u001b[0m\u001b[1;33m\u001b[0m\u001b[0m\n\u001b[1;32m----> 7\u001b[1;33m \u001b[0mnflx_analyzer\u001b[0m \u001b[1;33m=\u001b[0m \u001b[0mstock_analysis\u001b[0m\u001b[1;33m.\u001b[0m\u001b[0mStockAnalyzer\u001b[0m\u001b[1;33m(\u001b[0m\u001b[0mnflx\u001b[0m\u001b[1;33m)\u001b[0m\u001b[1;33m\u001b[0m\u001b[1;33m\u001b[0m\u001b[0m\n\u001b[0m\u001b[0;32m      8\u001b[0m support_levels, resistance_levels = (\n\u001b[0;32m      9\u001b[0m     \u001b[0mlevels\u001b[0m\u001b[1;33m(\u001b[0m\u001b[0mnflx_analyzer\u001b[0m\u001b[1;33m,\u001b[0m \u001b[0mmetric\u001b[0m\u001b[1;33m)\u001b[0m \u001b[1;32mfor\u001b[0m \u001b[0mmetric\u001b[0m \u001b[1;32min\u001b[0m \u001b[1;33m[\u001b[0m\u001b[1;34m'support'\u001b[0m\u001b[1;33m,\u001b[0m \u001b[1;34m'resistance'\u001b[0m\u001b[1;33m]\u001b[0m\u001b[1;33m\u001b[0m\u001b[1;33m\u001b[0m\u001b[0m\n",
      "\u001b[1;31mNameError\u001b[0m: name 'stock_analysis' is not defined"
     ]
    }
   ],
   "source": [
    "import itertools\n",
    "\n",
    "def levels(analyzer, method):\n",
    "    return [getattr(analyzer, method)(i) for i in range(1, 4)]\n",
    "\n",
    "# calculate support/resistance levels\n",
    "nflx_analyzer = stock_analysis.StockAnalyzer(nflx)\n",
    "support_levels, resistance_levels = (\n",
    "    levels(nflx_analyzer, metric) for metric in ['support', 'resistance']\n",
    ")\n",
    "nflx_viz = stock_analysis.StockVisualizer(nflx)\n",
    "ax = nflx_viz.evolution_over_time('close', figsize=(15, 8), title='NFLX Closing Price')\n",
    "\n",
    "for support, resistance, linestyle, level in zip(\n",
    "    support_levels, resistance_levels, \n",
    "    [':', '--', '-.'], itertools.count(1)\n",
    "):\n",
    "    nflx_viz.add_reference_line(\n",
    "        ax, \n",
    "        y=support, \n",
    "        label=f'support level {level}', \n",
    "        color='green', \n",
    "        linestyle=linestyle\n",
    "    )\n",
    "    nflx_viz.add_reference_line(\n",
    "        ax, \n",
    "        y=resistance, \n",
    "        label=f'resistance level {level}', \n",
    "        color='red', \n",
    "        linestyle=linestyle\n",
    "    )\n",
    "ax.get_legend().remove()\n",
    "ax.set_ylabel('price ($)')"
   ]
  },
  {
   "cell_type": "code",
   "execution_count": 4,
   "metadata": {},
   "outputs": [
    {
     "output_type": "error",
     "ename": "NameError",
     "evalue": "name 'stock_analysis' is not defined",
     "traceback": [
      "\u001b[1;31m---------------------------------------------------------------------------\u001b[0m",
      "\u001b[1;31mNameError\u001b[0m                                 Traceback (most recent call last)",
      "\u001b[1;32m<ipython-input-4-22333caafecb>\u001b[0m in \u001b[0;36m<module>\u001b[1;34m\u001b[0m\n\u001b[1;32m----> 1\u001b[1;33m \u001b[0mstock_analysis\u001b[0m\u001b[1;33m.\u001b[0m\u001b[0mAssetGroupVisualizer\u001b[0m\u001b[1;33m(\u001b[0m\u001b[0mfaang\u001b[0m\u001b[1;33m)\u001b[0m\u001b[1;33m.\u001b[0m\u001b[0mafter_hours_trades\u001b[0m\u001b[1;33m(\u001b[0m\u001b[1;33m)\u001b[0m\u001b[1;33m\u001b[0m\u001b[1;33m\u001b[0m\u001b[0m\n\u001b[0m",
      "\u001b[1;31mNameError\u001b[0m: name 'stock_analysis' is not defined"
     ]
    }
   ],
   "source": [
    "stock_analysis.AssetGroupVisualizer(faang).after_hours_trades()"
   ]
  },
  {
   "cell_type": "code",
   "execution_count": 5,
   "metadata": {},
   "outputs": [
    {
     "output_type": "error",
     "ename": "ModuleNotFoundError",
     "evalue": "No module named 'stock_analysis'",
     "traceback": [
      "\u001b[1;31m---------------------------------------------------------------------------\u001b[0m",
      "\u001b[1;31mModuleNotFoundError\u001b[0m                       Traceback (most recent call last)",
      "\u001b[1;32m<ipython-input-5-b745084b2164>\u001b[0m in \u001b[0;36m<module>\u001b[1;34m\u001b[0m\n\u001b[1;32m----> 1\u001b[1;33m \u001b[1;32mfrom\u001b[0m \u001b[0mstock_analysis\u001b[0m\u001b[1;33m.\u001b[0m\u001b[0mutils\u001b[0m \u001b[1;32mimport\u001b[0m \u001b[0mmake_portfolio\u001b[0m\u001b[1;33m\u001b[0m\u001b[1;33m\u001b[0m\u001b[0m\n\u001b[0m\u001b[0;32m      2\u001b[0m stock_analysis.StockVisualizer(\n\u001b[0;32m      3\u001b[0m     \u001b[0mmake_portfolio\u001b[0m\u001b[1;33m(\u001b[0m\u001b[0mfaang\u001b[0m\u001b[1;33m)\u001b[0m\u001b[1;33m\u001b[0m\u001b[1;33m\u001b[0m\u001b[0m\n\u001b[0;32m      4\u001b[0m ).after_hours_trades()\n",
      "\u001b[1;31mModuleNotFoundError\u001b[0m: No module named 'stock_analysis'"
     ]
    }
   ],
   "source": [
    "from stock_analysis.utils import make_portfolio\n",
    "stock_analysis.StockVisualizer(\n",
    "    make_portfolio(faang)\n",
    ").after_hours_trades()"
   ]
  },
  {
   "cell_type": "code",
   "execution_count": 6,
   "metadata": {},
   "outputs": [
    {
     "output_type": "error",
     "ename": "ModuleNotFoundError",
     "evalue": "No module named 'stock_analysis'",
     "traceback": [
      "\u001b[1;31m---------------------------------------------------------------------------\u001b[0m",
      "\u001b[1;31mModuleNotFoundError\u001b[0m                       Traceback (most recent call last)",
      "\u001b[1;32m<ipython-input-6-dd2efb4806f4>\u001b[0m in \u001b[0;36m<module>\u001b[1;34m\u001b[0m\n\u001b[1;32m----> 1\u001b[1;33m \u001b[1;32mfrom\u001b[0m \u001b[0mstock_analysis\u001b[0m\u001b[1;33m.\u001b[0m\u001b[0mutils\u001b[0m \u001b[1;32mimport\u001b[0m \u001b[0mmake_portfolio\u001b[0m\u001b[1;33m\u001b[0m\u001b[1;33m\u001b[0m\u001b[0m\n\u001b[0m\u001b[0;32m      2\u001b[0m \u001b[0mstock_analysis\u001b[0m\u001b[1;33m.\u001b[0m\u001b[0mStockVisualizer\u001b[0m\u001b[1;33m(\u001b[0m\u001b[0mmake_portfolio\u001b[0m\u001b[1;33m(\u001b[0m\u001b[0mfaang\u001b[0m\u001b[1;33m)\u001b[0m\u001b[1;33m)\u001b[0m\u001b[1;33m.\u001b[0m\u001b[0mopen_to_close\u001b[0m\u001b[1;33m(\u001b[0m\u001b[1;33m)\u001b[0m\u001b[1;33m\u001b[0m\u001b[1;33m\u001b[0m\u001b[0m\n",
      "\u001b[1;31mModuleNotFoundError\u001b[0m: No module named 'stock_analysis'"
     ]
    }
   ],
   "source": [
    "from stock_analysis.utils import make_portfolio\n",
    "stock_analysis.StockVisualizer(make_portfolio(faang)).open_to_close()"
   ]
  },
  {
   "cell_type": "code",
   "execution_count": 7,
   "metadata": {},
   "outputs": [
    {
     "output_type": "error",
     "ename": "NameError",
     "evalue": "name 'sp' is not defined",
     "traceback": [
      "\u001b[1;31m---------------------------------------------------------------------------\u001b[0m",
      "\u001b[1;31mNameError\u001b[0m                                 Traceback (most recent call last)",
      "\u001b[1;32m<ipython-input-7-7b6f522cfc51>\u001b[0m in \u001b[0;36m<module>\u001b[1;34m\u001b[0m\n\u001b[0;32m      2\u001b[0m \u001b[1;32mimport\u001b[0m \u001b[0mnumpy\u001b[0m \u001b[1;32mas\u001b[0m \u001b[0mnp\u001b[0m\u001b[1;33m\u001b[0m\u001b[1;33m\u001b[0m\u001b[0m\n\u001b[0;32m      3\u001b[0m \u001b[1;33m\u001b[0m\u001b[0m\n\u001b[1;32m----> 4\u001b[1;33m sp_reindexed = sp.reindex(\n\u001b[0m\u001b[0;32m      5\u001b[0m     \u001b[0mpd\u001b[0m\u001b[1;33m.\u001b[0m\u001b[0mdate_range\u001b[0m\u001b[1;33m(\u001b[0m\u001b[1;34m'2017-01-01'\u001b[0m\u001b[1;33m,\u001b[0m \u001b[0mend\u001b[0m\u001b[1;33m=\u001b[0m\u001b[1;34m'2018-12-31'\u001b[0m\u001b[1;33m,\u001b[0m \u001b[0mfreq\u001b[0m\u001b[1;33m=\u001b[0m\u001b[1;34m'D'\u001b[0m\u001b[1;33m)\u001b[0m\u001b[1;33m\u001b[0m\u001b[1;33m\u001b[0m\u001b[0m\n\u001b[0;32m      6\u001b[0m \u001b[1;33m)\u001b[0m\u001b[1;33m.\u001b[0m\u001b[0massign\u001b[0m\u001b[1;33m(\u001b[0m\u001b[1;33m\u001b[0m\u001b[1;33m\u001b[0m\u001b[0m\n",
      "\u001b[1;31mNameError\u001b[0m: name 'sp' is not defined"
     ]
    }
   ],
   "source": [
    "import pandas as pd\n",
    "import numpy as np\n",
    "\n",
    "sp_reindexed = sp.reindex(\n",
    "    pd.date_range('2017-01-01', end='2018-12-31', freq='D')\n",
    ").assign(\n",
    "    volume=lambda x: x.fillna(0),\n",
    "    close=lambda x: x.fillna(method='ffill'),\n",
    "    open=lambda x: np.where(x.open.isnull(), x.close, x.open),\n",
    "    high=lambda x: np.where(x.high.isnull(), x.close, x.high),\n",
    "    low=lambda x: np.where(x.low.isnull(), x.close, x.low)\n",
    ")\n",
    "\n",
    "sp_reindexed.index.rename('date', inplace=True)\n",
    "\n",
    "stock_analysis.StockVisualizer(\n",
    "    make_portfolio(group_stocks({'bitcoin': bitcoin, 'sp500': sp_reindexed}))\n",
    ").open_to_close()"
   ]
  },
  {
   "cell_type": "code",
   "execution_count": 8,
   "metadata": {},
   "outputs": [
    {
     "output_type": "error",
     "ename": "NameError",
     "evalue": "name 'reader' is not defined",
     "traceback": [
      "\u001b[1;31m---------------------------------------------------------------------------\u001b[0m",
      "\u001b[1;31mNameError\u001b[0m                                 Traceback (most recent call last)",
      "\u001b[1;32m<ipython-input-8-cdd0c27674a8>\u001b[0m in \u001b[0;36m<module>\u001b[1;34m\u001b[0m\n\u001b[1;32m----> 1\u001b[1;33m \u001b[0mfbalx\u001b[0m \u001b[1;33m=\u001b[0m \u001b[0mreader\u001b[0m\u001b[1;33m.\u001b[0m\u001b[0mget_ticker_data\u001b[0m\u001b[1;33m(\u001b[0m\u001b[1;34m'FBALX'\u001b[0m\u001b[1;33m)\u001b[0m\u001b[1;33m\u001b[0m\u001b[1;33m\u001b[0m\u001b[0m\n\u001b[0m\u001b[0;32m      2\u001b[0m \u001b[0mmsft\u001b[0m \u001b[1;33m=\u001b[0m \u001b[0mreader\u001b[0m\u001b[1;33m.\u001b[0m\u001b[0mget_ticker_data\u001b[0m\u001b[1;33m(\u001b[0m\u001b[1;34m'MSFT'\u001b[0m\u001b[1;33m)\u001b[0m\u001b[1;33m\u001b[0m\u001b[1;33m\u001b[0m\u001b[0m\n\u001b[0;32m      3\u001b[0m mutual_fund = group_stocks({\n\u001b[0;32m      4\u001b[0m     \u001b[1;34m'0 - FBALX'\u001b[0m \u001b[1;33m:\u001b[0m \u001b[0mfbalx\u001b[0m\u001b[1;33m,\u001b[0m\u001b[1;33m\u001b[0m\u001b[1;33m\u001b[0m\u001b[0m\n\u001b[0;32m      5\u001b[0m     \u001b[1;34m'1 - Microsoft'\u001b[0m \u001b[1;33m:\u001b[0m \u001b[0mmsft\u001b[0m\u001b[1;33m,\u001b[0m\u001b[1;33m\u001b[0m\u001b[1;33m\u001b[0m\u001b[0m\n",
      "\u001b[1;31mNameError\u001b[0m: name 'reader' is not defined"
     ]
    }
   ],
   "source": [
    "fbalx = reader.get_ticker_data('FBALX')\n",
    "msft = reader.get_ticker_data('MSFT')\n",
    "mutual_fund = group_stocks({\n",
    "    '0 - FBALX' : fbalx,\n",
    "    '1 - Microsoft' : msft,\n",
    "    '2 - Apple' : aapl,\n",
    "    '3 - Amazon' : amzn\n",
    "})\n",
    "stock_analysis.AssetGroupAnalyzer(mutual_fund).analyze(\n",
    "    'annualized_volatility'\n",
    ")"
   ]
  },
  {
   "cell_type": "code",
   "execution_count": 9,
   "metadata": {},
   "outputs": [
    {
     "output_type": "error",
     "ename": "NameError",
     "evalue": "name 'fbalx' is not defined",
     "traceback": [
      "\u001b[1;31m---------------------------------------------------------------------------\u001b[0m",
      "\u001b[1;31mNameError\u001b[0m                                 Traceback (most recent call last)",
      "\u001b[1;32m<ipython-input-9-2a65b68f3c1d>\u001b[0m in \u001b[0;36m<module>\u001b[1;34m\u001b[0m\n\u001b[0;32m     26\u001b[0m     }, index=range(1))\n\u001b[0;32m     27\u001b[0m \u001b[1;33m\u001b[0m\u001b[0m\n\u001b[1;32m---> 28\u001b[1;33m \u001b[0mmetric_table\u001b[0m\u001b[1;33m(\u001b[0m\u001b[0mfbalx\u001b[0m\u001b[1;33m,\u001b[0m \u001b[0msp\u001b[0m\u001b[1;33m)\u001b[0m\u001b[1;33m\u001b[0m\u001b[1;33m\u001b[0m\u001b[0m\n\u001b[0m",
      "\u001b[1;31mNameError\u001b[0m: name 'fbalx' is not defined"
     ]
    }
   ],
   "source": [
    "import pandas as pd\n",
    "\n",
    "def metric_table(stock, index):\n",
    "    \"\"\"\n",
    "    Make a table of metrics for a stock.\n",
    "\n",
    "    Parameters:\n",
    "        - stock: The stock's dataframe.\n",
    "        - index: The dataframe for the index.\n",
    "     \n",
    "    Returns:\n",
    "        A pandas DataFrame with a single row of metrics\n",
    "    \"\"\"\n",
    "    return pd.DataFrame({\n",
    "        metric : getattr(\n",
    "            stock_analysis.StockAnalyzer(stock), \n",
    "            metric\n",
    "        )(**kwargs) \\\n",
    "        for metric, kwargs in {\n",
    "            'alpha' : {'index' : index, 'r_f' : 2.46}, \n",
    "            'beta' : {'index' : index}, \n",
    "            'annualized_volatility' : {},\n",
    "            'is_bear_market' : {},\n",
    "            'is_bull_market' : {}\n",
    "        }.items()\n",
    "    }, index=range(1))\n",
    "\n",
    "metric_table(fbalx, sp)"
   ]
  },
  {
   "cell_type": "code",
   "execution_count": null,
   "metadata": {},
   "outputs": [],
   "source": []
  }
 ]
}